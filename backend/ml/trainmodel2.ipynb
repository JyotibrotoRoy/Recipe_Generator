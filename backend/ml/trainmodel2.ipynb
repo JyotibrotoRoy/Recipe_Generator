{
 "cells": [
  {
   "cell_type": "code",
   "execution_count": 32,
   "id": "15af7f4a",
   "metadata": {},
   "outputs": [],
   "source": [
    "import pandas as pd\n",
    "import numpy as np\n",
    "from sklearn.model_selection import train_test_split, StratifiedKFold, cross_val_score\n",
    "from sklearn.feature_extraction.text import TfidfVectorizer\n",
    "from sklearn.preprocessing import StandardScaler\n",
    "from sklearn.linear_model import LogisticRegression\n",
    "from sklearn.svm import SVC\n",
    "from sklearn.ensemble import RandomForestClassifier\n",
    "from sklearn.metrics import accuracy_score, classification_report   "
   ]
  },
  {
   "cell_type": "code",
   "execution_count": 33,
   "id": "0c6d8399",
   "metadata": {},
   "outputs": [],
   "source": [
    "df = pd.read_csv(\"../data/recipes.csv\")"
   ]
  },
  {
   "cell_type": "code",
   "execution_count": 34,
   "id": "83b19f34",
   "metadata": {},
   "outputs": [
    {
     "data": {
      "text/plain": [
       "Index(['Unnamed: 0', 'recipe_name', 'prep_time', 'cook_time', 'total_time',\n",
       "       'servings', 'yield', 'ingredients', 'directions', 'rating', 'url',\n",
       "       'cuisine_path', 'nutrition', 'timing', 'img_src'],\n",
       "      dtype='object')"
      ]
     },
     "execution_count": 34,
     "metadata": {},
     "output_type": "execute_result"
    }
   ],
   "source": [
    "df.columns"
   ]
  },
  {
   "cell_type": "code",
   "execution_count": 35,
   "id": "0782e677",
   "metadata": {},
   "outputs": [],
   "source": [
    "def time_to_minutes(time_str):\n",
    "    \"\"\"Convert time strings like '1 hrs 30 mins' into total minutes.\"\"\"\n",
    "    import re\n",
    "    if pd.isna(time_str):\n",
    "        return np.nan\n",
    "    hours = re.findall(r'(\\d+)\\s*hrs?', time_str)\n",
    "    minutes = re.findall(r'(\\d+)\\s*mins?', time_str)\n",
    "    total_minutes = int(hours[0]) * 60 if hours else 0\n",
    "    total_minutes += int(minutes[0]) if minutes else 0\n",
    "    return total_minutes\n",
    "\n",
    "df['prep_time'] = df['prep_time'].apply(time_to_minutes)\n",
    "df['cook_time'] = df['cook_time'].apply(time_to_minutes)\n",
    "df['total_time'] = df['total_time'].apply(time_to_minutes)"
   ]
  },
  {
   "cell_type": "code",
   "execution_count": 36,
   "id": "6553357c",
   "metadata": {},
   "outputs": [
    {
     "name": "stdout",
     "output_type": "stream",
     "text": [
      "                                         ingredients  \\\n",
      "0  3 tablespoons butter, 2 pounds Granny Smith ap...   \n",
      "1  8 small Granny Smith apples, or as needed, ½ c...   \n",
      "2  4  apples - peeled, cored and chopped, ¾ cup w...   \n",
      "3  10 cups all-purpose apples, peeled, cored and ...   \n",
      "4  18 cups thinly sliced apples, 3 tablespoons le...   \n",
      "\n",
      "                                 cleaned_ingredients  \n",
      "0  tablespoons butter pounds granny smith apples ...  \n",
      "1  small granny smith apples or as needed cup uns...  \n",
      "2  apples peeled cored and chopped cup water cup ...  \n",
      "3  cups allpurpose apples peeled cored and sliced...  \n",
      "4  cups thinly sliced apples tablespoons lemon ju...  \n"
     ]
    }
   ],
   "source": [
    "df['cleaned_ingredients'] = df['ingredients'].str.lower()  # Convert to lowercase\n",
    "df['cleaned_ingredients'] = df['cleaned_ingredients'].str.replace(r'[^a-zA-Z\\s]', '', regex=True)  # Remove punctuation\n",
    "df['cleaned_ingredients'] = df['cleaned_ingredients'].str.replace(r'\\s+', ' ', regex=True).str.strip()  # Remove extra spaces\n",
    "\n",
    "print(df[['ingredients', 'cleaned_ingredients']].head())\n"
   ]
  },
  {
   "cell_type": "code",
   "execution_count": 37,
   "id": "ecd19843",
   "metadata": {},
   "outputs": [],
   "source": [
    "df.dropna(subset=['recipe_name', 'cleaned_ingredients', 'directions'], inplace=True)"
   ]
  },
  {
   "cell_type": "code",
   "execution_count": 38,
   "id": "a3ff7177",
   "metadata": {},
   "outputs": [],
   "source": [
    "# Filter out rare classes (classes with fewer than 2 samples)\n",
    "class_counts = df['recipe_name'].value_counts()\n",
    "df = df[df['recipe_name'].isin(class_counts[class_counts > 1].index)]"
   ]
  },
  {
   "cell_type": "code",
   "execution_count": 39,
   "id": "2fc19baa",
   "metadata": {},
   "outputs": [],
   "source": [
    "from sklearn.feature_extraction.text import TfidfVectorizer\n",
    "\n",
    "vectorizer_ingredients = TfidfVectorizer(max_features=5000, stop_words='english')\n",
    "X_ingredients = vectorizer_ingredients.fit_transform(df['cleaned_ingredients'])\n",
    "\n",
    "vectorizer_directions = TfidfVectorizer(max_features=5000, stop_words='english')\n",
    "X_directions = vectorizer_directions.fit_transform(df['directions'])"
   ]
  },
  {
   "cell_type": "code",
   "execution_count": 40,
   "id": "de73d7b2",
   "metadata": {},
   "outputs": [],
   "source": [
    "# Combine features\n",
    "X = np.hstack((X_ingredients.toarray(), X_directions.toarray()))\n",
    "y = df['recipe_name']"
   ]
  },
  {
   "cell_type": "code",
   "execution_count": 41,
   "id": "c77ded26",
   "metadata": {},
   "outputs": [],
   "source": [
    "X_train, X_test, y_train, y_test = train_test_split(X, y, test_size=0.3, random_state=42)"
   ]
  },
  {
   "cell_type": "code",
   "execution_count": 42,
   "id": "b246636d",
   "metadata": {},
   "outputs": [],
   "source": [
    "scaler = StandardScaler(with_mean=False)\n",
    "X_train = scaler.fit_transform(X_train)\n",
    "X_test = scaler.transform(X_test)"
   ]
  },
  {
   "cell_type": "code",
   "execution_count": 43,
   "id": "f028b655",
   "metadata": {},
   "outputs": [],
   "source": [
    "# Initialize models\n",
    "logistic_model = LogisticRegression(max_iter=1000, random_state=42)\n",
    "svc_model = SVC(kernel='linear', probability=True, random_state=42)\n",
    "rf_model = RandomForestClassifier(n_estimators=100, random_state=42)"
   ]
  },
  {
   "cell_type": "code",
   "execution_count": 44,
   "id": "f54f8fef",
   "metadata": {},
   "outputs": [
    {
     "name": "stdout",
     "output_type": "stream",
     "text": [
      "Cross-Validation Results:\n"
     ]
    },
    {
     "name": "stderr",
     "output_type": "stream",
     "text": [
      "C:\\Users\\royli\\AppData\\Roaming\\Python\\Python311\\site-packages\\sklearn\\model_selection\\_split.py:805: UserWarning: The least populated class in y has only 1 members, which is less than n_splits=5.\n",
      "  warnings.warn(\n"
     ]
    },
    {
     "name": "stdout",
     "output_type": "stream",
     "text": [
      "Logistic Regression: 0.9097\n"
     ]
    },
    {
     "name": "stderr",
     "output_type": "stream",
     "text": [
      "C:\\Users\\royli\\AppData\\Roaming\\Python\\Python311\\site-packages\\sklearn\\model_selection\\_split.py:805: UserWarning: The least populated class in y has only 1 members, which is less than n_splits=5.\n",
      "  warnings.warn(\n"
     ]
    },
    {
     "name": "stdout",
     "output_type": "stream",
     "text": [
      "SVM: 0.9097\n"
     ]
    },
    {
     "name": "stderr",
     "output_type": "stream",
     "text": [
      "C:\\Users\\royli\\AppData\\Roaming\\Python\\Python311\\site-packages\\sklearn\\model_selection\\_split.py:805: UserWarning: The least populated class in y has only 1 members, which is less than n_splits=5.\n",
      "  warnings.warn(\n"
     ]
    },
    {
     "name": "stdout",
     "output_type": "stream",
     "text": [
      "Random Forest: 0.9097\n"
     ]
    }
   ],
   "source": [
    "models = {\n",
    "    \"Logistic Regression\": logistic_model,\n",
    "    \"SVM\": svc_model,\n",
    "    \"Random Forest\": rf_model\n",
    "}\n",
    "\n",
    "print(\"Cross-Validation Results:\")\n",
    "for model_name, model in models.items():\n",
    "    skf = StratifiedKFold(n_splits=5, shuffle=True, random_state=42)\n",
    "    scores = cross_val_score(model, X_train, y_train, cv=skf, scoring='accuracy')\n",
    "    print(f\"{model_name}: {np.mean(scores):.4f}\")"
   ]
  },
  {
   "cell_type": "code",
   "execution_count": 45,
   "id": "75c6f074",
   "metadata": {},
   "outputs": [],
   "source": [
    "best_model = logistic_model  # Replace with the best model based on cross-validation results\n",
    "best_model.fit(X_train, y_train)\n",
    "y_pred = best_model.predict(X_test)"
   ]
  },
  {
   "cell_type": "code",
   "execution_count": 46,
   "id": "e737e361",
   "metadata": {},
   "outputs": [
    {
     "name": "stdout",
     "output_type": "stream",
     "text": [
      "\n",
      "Test Set Results:\n",
      "Accuracy: 0.8947\n",
      "Classification Report:\n",
      "                                                               precision    recall  f1-score   support\n",
      "\n",
      "                                        Amazing Apple Butter       1.00      1.00      1.00         1\n",
      "                                                 Apple Crisp       1.00      1.00      1.00         1\n",
      "                              Apple Crisp - Perfect and Easy       1.00      1.00      1.00         2\n",
      "                                             Apple Crumb Pie       1.00      1.00      1.00         2\n",
      "                                           Apple Pie Filling       1.00      1.00      1.00         3\n",
      "                                             Apple Turnovers       1.00      1.00      1.00         1\n",
      "                                       Apple-Cranberry Crisp       1.00      1.00      1.00         1\n",
      "                                    Apple-Cranberry Crostada       1.00      1.00      1.00         2\n",
      "                                  Baked Ham with Sweet Glaze       0.00      0.00      0.00         2\n",
      "                                    Canned Apple Pie Filling       1.00      1.00      1.00         3\n",
      "                                              Caramel Apples       1.00      1.00      1.00         2\n",
      "                                Debbie's Amazing Apple Bread       1.00      1.00      1.00         2\n",
      "                             Delicious Cinnamon Baked Apples       1.00      1.00      1.00         2\n",
      "                                            Easy Apple Cider       1.00      1.00      1.00         1\n",
      "                                 Easy Apple Cinnamon Muffins       1.00      1.00      1.00         2\n",
      "                           Easy Apple Crisp with Oat Topping       1.00      1.00      1.00         3\n",
      "                           Easy Apple Crisp with Pie Filling       1.00      1.00      1.00         1\n",
      "                                              Frog Eye Salad       1.00      1.00      1.00         1\n",
      "                                   Fruit and Yogurt Smoothie       1.00      1.00      1.00         1\n",
      "                                           German Apple Cake       1.00      1.00      1.00         1\n",
      "                                        Homemade Apple Cider       1.00      1.00      1.00         1\n",
      "                                                 Mango Bread       1.00      1.00      1.00         1\n",
      "                            Mango, Peach and Pineapple Salsa       1.00      1.00      1.00         1\n",
      "                                           Mulligatawny Soup       1.00      1.00      1.00         1\n",
      "                                      Old Fashioned Cocktail       1.00      1.00      1.00         1\n",
      "                               Old-Fashioned Apple Dumplings       1.00      1.00      1.00         1\n",
      "                                   Paleo Almond Date Cookies       0.33      1.00      0.50         1\n",
      "                                                    Pear Jam       1.00      1.00      1.00         1\n",
      "                                  Perfect Summer Fruit Salad       1.00      1.00      1.00         1\n",
      "             Persimmon, Pomegranate, and Massaged Kale Salad       0.00      0.00      0.00         2\n",
      "                                     Pineapple Glaze for Ham       0.00      0.00      0.00         0\n",
      "                            Pineapple Upside-Down Bundt Cake       0.00      0.00      0.00         0\n",
      "                               Pineapple and Banana Smoothie       1.00      1.00      1.00         1\n",
      "                                 Sarah's Homemade Applesauce       1.00      1.00      1.00         1\n",
      "                                              Sauteed Apples       1.00      1.00      1.00         2\n",
      "                                       Southern Fried Apples       1.00      1.00      1.00         1\n",
      "Spinach and Persimmon Salad with Goat Cheese and Pomegranate       1.00      1.00      1.00         1\n",
      "                                     The Best Caramel Apples       1.00      1.00      1.00         1\n",
      "                                  Thirty Day Friendship Cake       0.00      0.00      0.00         2\n",
      "                                               Waldorf Salad       1.00      1.00      1.00         2\n",
      "                                        White Peachy Sangria       1.00      1.00      1.00         1\n",
      "\n",
      "                                                    accuracy                           0.89        57\n",
      "                                                   macro avg       0.86      0.88      0.87        57\n",
      "                                                weighted avg       0.88      0.89      0.89        57\n",
      "\n"
     ]
    },
    {
     "name": "stderr",
     "output_type": "stream",
     "text": [
      "C:\\Users\\royli\\AppData\\Roaming\\Python\\Python311\\site-packages\\sklearn\\metrics\\_classification.py:1565: UndefinedMetricWarning: Precision is ill-defined and being set to 0.0 in labels with no predicted samples. Use `zero_division` parameter to control this behavior.\n",
      "  _warn_prf(average, modifier, f\"{metric.capitalize()} is\", len(result))\n",
      "C:\\Users\\royli\\AppData\\Roaming\\Python\\Python311\\site-packages\\sklearn\\metrics\\_classification.py:1565: UndefinedMetricWarning: Recall is ill-defined and being set to 0.0 in labels with no true samples. Use `zero_division` parameter to control this behavior.\n",
      "  _warn_prf(average, modifier, f\"{metric.capitalize()} is\", len(result))\n",
      "C:\\Users\\royli\\AppData\\Roaming\\Python\\Python311\\site-packages\\sklearn\\metrics\\_classification.py:1565: UndefinedMetricWarning: Precision is ill-defined and being set to 0.0 in labels with no predicted samples. Use `zero_division` parameter to control this behavior.\n",
      "  _warn_prf(average, modifier, f\"{metric.capitalize()} is\", len(result))\n",
      "C:\\Users\\royli\\AppData\\Roaming\\Python\\Python311\\site-packages\\sklearn\\metrics\\_classification.py:1565: UndefinedMetricWarning: Recall is ill-defined and being set to 0.0 in labels with no true samples. Use `zero_division` parameter to control this behavior.\n",
      "  _warn_prf(average, modifier, f\"{metric.capitalize()} is\", len(result))\n",
      "C:\\Users\\royli\\AppData\\Roaming\\Python\\Python311\\site-packages\\sklearn\\metrics\\_classification.py:1565: UndefinedMetricWarning: Precision is ill-defined and being set to 0.0 in labels with no predicted samples. Use `zero_division` parameter to control this behavior.\n",
      "  _warn_prf(average, modifier, f\"{metric.capitalize()} is\", len(result))\n",
      "C:\\Users\\royli\\AppData\\Roaming\\Python\\Python311\\site-packages\\sklearn\\metrics\\_classification.py:1565: UndefinedMetricWarning: Recall is ill-defined and being set to 0.0 in labels with no true samples. Use `zero_division` parameter to control this behavior.\n",
      "  _warn_prf(average, modifier, f\"{metric.capitalize()} is\", len(result))\n"
     ]
    }
   ],
   "source": [
    "print(\"\\nTest Set Results:\")\n",
    "print(f\"Accuracy: {accuracy_score(y_test, y_pred):.4f}\")\n",
    "print(\"Classification Report:\\n\", classification_report(y_test, y_pred))"
   ]
  },
  {
   "cell_type": "code",
   "execution_count": 47,
   "id": "e0e81df8",
   "metadata": {},
   "outputs": [
    {
     "data": {
      "text/plain": [
       "['recipe_model.pkl']"
      ]
     },
     "execution_count": 47,
     "metadata": {},
     "output_type": "execute_result"
    }
   ],
   "source": [
    "import joblib\n",
    "\n",
    "# Save the vectorizer and model\n",
    "joblib.dump(vectorizer_ingredients, \"vectorizer_ingredients.pkl\")\n",
    "joblib.dump(best_model, \"recipe_model.pkl\")"
   ]
  },
  {
   "cell_type": "code",
   "execution_count": 48,
   "id": "636174ed",
   "metadata": {},
   "outputs": [
    {
     "name": "stdout",
     "output_type": "stream",
     "text": [
      "Number of features in vectorizer: 317\n"
     ]
    },
    {
     "ename": "ValueError",
     "evalue": "X has 317 features, but LogisticRegression is expecting 1179 features as input.",
     "output_type": "error",
     "traceback": [
      "\u001b[1;31m---------------------------------------------------------------------------\u001b[0m",
      "\u001b[1;31mValueError\u001b[0m                                Traceback (most recent call last)",
      "Cell \u001b[1;32mIn[48], line 21\u001b[0m\n\u001b[0;32m     18\u001b[0m user_vector \u001b[38;5;241m=\u001b[39m preprocess_ingredients_input(user_ingredients, vectorizer_ingredients)\n\u001b[0;32m     20\u001b[0m \u001b[38;5;66;03m# Make a prediction\u001b[39;00m\n\u001b[1;32m---> 21\u001b[0m predicted_recipe \u001b[38;5;241m=\u001b[39m \u001b[43mbest_model\u001b[49m\u001b[38;5;241;43m.\u001b[39;49m\u001b[43mpredict\u001b[49m\u001b[43m(\u001b[49m\u001b[43muser_vector\u001b[49m\u001b[43m)\u001b[49m\n\u001b[0;32m     22\u001b[0m \u001b[38;5;28mprint\u001b[39m(\u001b[38;5;124mf\u001b[39m\u001b[38;5;124m\"\u001b[39m\u001b[38;5;124mPredicted Recipe Name: \u001b[39m\u001b[38;5;132;01m{\u001b[39;00mpredicted_recipe[\u001b[38;5;241m0\u001b[39m]\u001b[38;5;132;01m}\u001b[39;00m\u001b[38;5;124m\"\u001b[39m)\n",
      "File \u001b[1;32m~\\AppData\\Roaming\\Python\\Python311\\site-packages\\sklearn\\linear_model\\_base.py:374\u001b[0m, in \u001b[0;36mLinearClassifierMixin.predict\u001b[1;34m(self, X)\u001b[0m\n\u001b[0;32m    360\u001b[0m \u001b[38;5;250m\u001b[39m\u001b[38;5;124;03m\"\"\"\u001b[39;00m\n\u001b[0;32m    361\u001b[0m \u001b[38;5;124;03mPredict class labels for samples in X.\u001b[39;00m\n\u001b[0;32m    362\u001b[0m \n\u001b[1;32m   (...)\u001b[0m\n\u001b[0;32m    371\u001b[0m \u001b[38;5;124;03m    Vector containing the class labels for each sample.\u001b[39;00m\n\u001b[0;32m    372\u001b[0m \u001b[38;5;124;03m\"\"\"\u001b[39;00m\n\u001b[0;32m    373\u001b[0m xp, _ \u001b[38;5;241m=\u001b[39m get_namespace(X)\n\u001b[1;32m--> 374\u001b[0m scores \u001b[38;5;241m=\u001b[39m \u001b[38;5;28;43mself\u001b[39;49m\u001b[38;5;241;43m.\u001b[39;49m\u001b[43mdecision_function\u001b[49m\u001b[43m(\u001b[49m\u001b[43mX\u001b[49m\u001b[43m)\u001b[49m\n\u001b[0;32m    375\u001b[0m \u001b[38;5;28;01mif\u001b[39;00m \u001b[38;5;28mlen\u001b[39m(scores\u001b[38;5;241m.\u001b[39mshape) \u001b[38;5;241m==\u001b[39m \u001b[38;5;241m1\u001b[39m:\n\u001b[0;32m    376\u001b[0m     indices \u001b[38;5;241m=\u001b[39m xp\u001b[38;5;241m.\u001b[39mastype(scores \u001b[38;5;241m>\u001b[39m \u001b[38;5;241m0\u001b[39m, indexing_dtype(xp))\n",
      "File \u001b[1;32m~\\AppData\\Roaming\\Python\\Python311\\site-packages\\sklearn\\linear_model\\_base.py:351\u001b[0m, in \u001b[0;36mLinearClassifierMixin.decision_function\u001b[1;34m(self, X)\u001b[0m\n\u001b[0;32m    348\u001b[0m check_is_fitted(\u001b[38;5;28mself\u001b[39m)\n\u001b[0;32m    349\u001b[0m xp, _ \u001b[38;5;241m=\u001b[39m get_namespace(X)\n\u001b[1;32m--> 351\u001b[0m X \u001b[38;5;241m=\u001b[39m \u001b[43mvalidate_data\u001b[49m\u001b[43m(\u001b[49m\u001b[38;5;28;43mself\u001b[39;49m\u001b[43m,\u001b[49m\u001b[43m \u001b[49m\u001b[43mX\u001b[49m\u001b[43m,\u001b[49m\u001b[43m \u001b[49m\u001b[43maccept_sparse\u001b[49m\u001b[38;5;241;43m=\u001b[39;49m\u001b[38;5;124;43m\"\u001b[39;49m\u001b[38;5;124;43mcsr\u001b[39;49m\u001b[38;5;124;43m\"\u001b[39;49m\u001b[43m,\u001b[49m\u001b[43m \u001b[49m\u001b[43mreset\u001b[49m\u001b[38;5;241;43m=\u001b[39;49m\u001b[38;5;28;43;01mFalse\u001b[39;49;00m\u001b[43m)\u001b[49m\n\u001b[0;32m    352\u001b[0m scores \u001b[38;5;241m=\u001b[39m safe_sparse_dot(X, \u001b[38;5;28mself\u001b[39m\u001b[38;5;241m.\u001b[39mcoef_\u001b[38;5;241m.\u001b[39mT, dense_output\u001b[38;5;241m=\u001b[39m\u001b[38;5;28;01mTrue\u001b[39;00m) \u001b[38;5;241m+\u001b[39m \u001b[38;5;28mself\u001b[39m\u001b[38;5;241m.\u001b[39mintercept_\n\u001b[0;32m    353\u001b[0m \u001b[38;5;28;01mreturn\u001b[39;00m (\n\u001b[0;32m    354\u001b[0m     xp\u001b[38;5;241m.\u001b[39mreshape(scores, (\u001b[38;5;241m-\u001b[39m\u001b[38;5;241m1\u001b[39m,))\n\u001b[0;32m    355\u001b[0m     \u001b[38;5;28;01mif\u001b[39;00m (scores\u001b[38;5;241m.\u001b[39mndim \u001b[38;5;241m>\u001b[39m \u001b[38;5;241m1\u001b[39m \u001b[38;5;129;01mand\u001b[39;00m scores\u001b[38;5;241m.\u001b[39mshape[\u001b[38;5;241m1\u001b[39m] \u001b[38;5;241m==\u001b[39m \u001b[38;5;241m1\u001b[39m)\n\u001b[0;32m    356\u001b[0m     \u001b[38;5;28;01melse\u001b[39;00m scores\n\u001b[0;32m    357\u001b[0m )\n",
      "File \u001b[1;32m~\\AppData\\Roaming\\Python\\Python311\\site-packages\\sklearn\\utils\\validation.py:2965\u001b[0m, in \u001b[0;36mvalidate_data\u001b[1;34m(_estimator, X, y, reset, validate_separately, skip_check_array, **check_params)\u001b[0m\n\u001b[0;32m   2962\u001b[0m     out \u001b[38;5;241m=\u001b[39m X, y\n\u001b[0;32m   2964\u001b[0m \u001b[38;5;28;01mif\u001b[39;00m \u001b[38;5;129;01mnot\u001b[39;00m no_val_X \u001b[38;5;129;01mand\u001b[39;00m check_params\u001b[38;5;241m.\u001b[39mget(\u001b[38;5;124m\"\u001b[39m\u001b[38;5;124mensure_2d\u001b[39m\u001b[38;5;124m\"\u001b[39m, \u001b[38;5;28;01mTrue\u001b[39;00m):\n\u001b[1;32m-> 2965\u001b[0m     \u001b[43m_check_n_features\u001b[49m\u001b[43m(\u001b[49m\u001b[43m_estimator\u001b[49m\u001b[43m,\u001b[49m\u001b[43m \u001b[49m\u001b[43mX\u001b[49m\u001b[43m,\u001b[49m\u001b[43m \u001b[49m\u001b[43mreset\u001b[49m\u001b[38;5;241;43m=\u001b[39;49m\u001b[43mreset\u001b[49m\u001b[43m)\u001b[49m\n\u001b[0;32m   2967\u001b[0m \u001b[38;5;28;01mreturn\u001b[39;00m out\n",
      "File \u001b[1;32m~\\AppData\\Roaming\\Python\\Python311\\site-packages\\sklearn\\utils\\validation.py:2829\u001b[0m, in \u001b[0;36m_check_n_features\u001b[1;34m(estimator, X, reset)\u001b[0m\n\u001b[0;32m   2826\u001b[0m     \u001b[38;5;28;01mreturn\u001b[39;00m\n\u001b[0;32m   2828\u001b[0m \u001b[38;5;28;01mif\u001b[39;00m n_features \u001b[38;5;241m!=\u001b[39m estimator\u001b[38;5;241m.\u001b[39mn_features_in_:\n\u001b[1;32m-> 2829\u001b[0m     \u001b[38;5;28;01mraise\u001b[39;00m \u001b[38;5;167;01mValueError\u001b[39;00m(\n\u001b[0;32m   2830\u001b[0m         \u001b[38;5;124mf\u001b[39m\u001b[38;5;124m\"\u001b[39m\u001b[38;5;124mX has \u001b[39m\u001b[38;5;132;01m{\u001b[39;00mn_features\u001b[38;5;132;01m}\u001b[39;00m\u001b[38;5;124m features, but \u001b[39m\u001b[38;5;132;01m{\u001b[39;00mestimator\u001b[38;5;241m.\u001b[39m\u001b[38;5;18m__class__\u001b[39m\u001b[38;5;241m.\u001b[39m\u001b[38;5;18m__name__\u001b[39m\u001b[38;5;132;01m}\u001b[39;00m\u001b[38;5;124m \u001b[39m\u001b[38;5;124m\"\u001b[39m\n\u001b[0;32m   2831\u001b[0m         \u001b[38;5;124mf\u001b[39m\u001b[38;5;124m\"\u001b[39m\u001b[38;5;124mis expecting \u001b[39m\u001b[38;5;132;01m{\u001b[39;00mestimator\u001b[38;5;241m.\u001b[39mn_features_in_\u001b[38;5;132;01m}\u001b[39;00m\u001b[38;5;124m features as input.\u001b[39m\u001b[38;5;124m\"\u001b[39m\n\u001b[0;32m   2832\u001b[0m     )\n",
      "\u001b[1;31mValueError\u001b[0m: X has 317 features, but LogisticRegression is expecting 1179 features as input."
     ]
    }
   ],
   "source": [
    "import joblib\n",
    "import re\n",
    "\n",
    "# Load the vectorizer and model\n",
    "vectorizer_ingredients = joblib.load(\"vectorizer_ingredients.pkl\")\n",
    "best_model = joblib.load(\"recipe_model.pkl\")\n",
    "\n",
    "print(f\"Number of features in vectorizer: {len(vectorizer_ingredients.get_feature_names_out())}\")\n",
    "\n",
    "# Function to preprocess user input\n",
    "def preprocess_ingredients_input(ingredients, vectorizer_ingredients):\n",
    "    cleaned_ingredients = re.sub(r'[^a-zA-Z\\s]', '', ingredients.lower()).strip()\n",
    "    ingredients_vector = vectorizer_ingredients.transform([cleaned_ingredients])\n",
    "    return ingredients_vector\n",
    "\n",
    "# Example: User Input\n",
    "user_ingredients = input(\"Enter the ingredients (comma-separated): \")\n",
    "user_vector = preprocess_ingredients_input(user_ingredients, vectorizer_ingredients)\n",
    "\n",
    "# Make a prediction\n",
    "predicted_recipe = best_model.predict(user_vector)\n",
    "print(f\"Predicted Recipe Name: {predicted_recipe[0]}\")"
   ]
  }
 ],
 "metadata": {
  "kernelspec": {
   "display_name": "Python 3",
   "language": "python",
   "name": "python3"
  },
  "language_info": {
   "codemirror_mode": {
    "name": "ipython",
    "version": 3
   },
   "file_extension": ".py",
   "mimetype": "text/x-python",
   "name": "python",
   "nbconvert_exporter": "python",
   "pygments_lexer": "ipython3",
   "version": "3.11.4"
  }
 },
 "nbformat": 4,
 "nbformat_minor": 5
}
