{
 "cells": [
  {
   "cell_type": "code",
   "execution_count": 45,
   "id": "15af7f4a",
   "metadata": {},
   "outputs": [],
   "source": [
    "import pandas as pd\n",
    "import numpy as np\n",
    "import re\n",
    "from sklearn.model_selection import train_test_split, StratifiedKFold, cross_val_score\n",
    "from sklearn.feature_extraction.text import TfidfVectorizer\n",
    "from sklearn.preprocessing import StandardScaler\n",
    "from sklearn.linear_model import LogisticRegression\n",
    "from sklearn.svm import SVC\n",
    "from sklearn.ensemble import RandomForestClassifier\n",
    "from sklearn.metrics import accuracy_score, classification_report   "
   ]
  },
  {
   "cell_type": "code",
   "execution_count": 46,
   "id": "0c6d8399",
   "metadata": {},
   "outputs": [],
   "source": [
    "df = pd.read_csv(\"../data/recipes.csv\")"
   ]
  },
  {
   "cell_type": "code",
   "execution_count": 47,
   "id": "83b19f34",
   "metadata": {},
   "outputs": [
    {
     "data": {
      "text/plain": [
       "Index(['Unnamed: 0', 'recipe_name', 'prep_time', 'cook_time', 'total_time',\n",
       "       'servings', 'yield', 'ingredients', 'directions', 'rating', 'url',\n",
       "       'cuisine_path', 'nutrition', 'timing', 'img_src'],\n",
       "      dtype='object')"
      ]
     },
     "execution_count": 47,
     "metadata": {},
     "output_type": "execute_result"
    }
   ],
   "source": [
    "df.columns"
   ]
  },
  {
   "cell_type": "code",
   "execution_count": 48,
   "id": "0782e677",
   "metadata": {},
   "outputs": [],
   "source": [
    "# def time_to_minutes(time_str):\n",
    "#     \"\"\"Convert time strings like '1 hrs 30 mins' into total minutes.\"\"\"\n",
    "#     import re\n",
    "#     if pd.isna(time_str):\n",
    "#         return np.nan\n",
    "#     hours = re.findall(r'(\\d+)\\s*hrs?', time_str)\n",
    "#     minutes = re.findall(r'(\\d+)\\s*mins?', time_str)\n",
    "#     total_minutes = int(hours[0]) * 60 if hours else 0\n",
    "#     total_minutes += int(minutes[0]) if minutes else 0\n",
    "#     return total_minutes\n",
    "\n",
    "# df['prep_time'] = df['prep_time'].apply(time_to_minutes)\n",
    "# df['cook_time'] = df['cook_time'].apply(time_to_minutes)\n",
    "# df['total_time'] = df['total_time'].apply(time_to_minutes)"
   ]
  },
  {
   "cell_type": "code",
   "execution_count": 49,
   "id": "30eb11e6",
   "metadata": {},
   "outputs": [],
   "source": [
    "def time_to_minutes(time_str):\n",
    "    \"\"\"Convert time strings like '1 hrs 30 mins' into total minutes.\"\"\"\n",
    "    if pd.isna(time_str):\n",
    "        return np.nan\n",
    "    time_str = str(time_str)  # Convert to string to avoid TypeError\n",
    "    hours = re.findall(r'(\\d+)\\s*hrs?', time_str)\n",
    "    minutes = re.findall(r'(\\d+)\\s*mins?', time_str)\n",
    "    total_minutes = int(hours[0]) * 60 if hours else 0\n",
    "    total_minutes += int(minutes[0]) if minutes else 0\n",
    "    return total_minutes\n",
    "\n",
    "# Apply safely to all columns\n",
    "df['prep_time'] = df['prep_time'].apply(time_to_minutes)\n",
    "df['cook_time'] = df['cook_time'].apply(time_to_minutes)\n",
    "df['total_time'] = df['total_time'].apply(time_to_minutes)"
   ]
  },
  {
   "cell_type": "code",
   "execution_count": 50,
   "id": "6553357c",
   "metadata": {},
   "outputs": [
    {
     "name": "stdout",
     "output_type": "stream",
     "text": [
      "                                         ingredients  \\\n",
      "0  3 tablespoons butter, 2 pounds Granny Smith ap...   \n",
      "1  8 small Granny Smith apples, or as needed, ½ c...   \n",
      "2  4  apples - peeled, cored and chopped, ¾ cup w...   \n",
      "3  10 cups all-purpose apples, peeled, cored and ...   \n",
      "4  18 cups thinly sliced apples, 3 tablespoons le...   \n",
      "\n",
      "                                 cleaned_ingredients  \n",
      "0  tablespoons butter pounds granny smith apples ...  \n",
      "1  small granny smith apples or as needed cup uns...  \n",
      "2  apples peeled cored and chopped cup water cup ...  \n",
      "3  cups allpurpose apples peeled cored and sliced...  \n",
      "4  cups thinly sliced apples tablespoons lemon ju...  \n"
     ]
    }
   ],
   "source": [
    "df['cleaned_ingredients'] = df['ingredients'].str.lower()  # Convert to lowercase\n",
    "df['cleaned_ingredients'] = df['cleaned_ingredients'].str.replace(r'[^a-zA-Z\\s]', '', regex=True)  # Remove punctuation\n",
    "df['cleaned_ingredients'] = df['cleaned_ingredients'].str.replace(r'\\s+', ' ', regex=True).str.strip()  # Remove extra spaces\n",
    "\n",
    "print(df[['ingredients', 'cleaned_ingredients']].head())\n"
   ]
  },
  {
   "cell_type": "code",
   "execution_count": 51,
   "id": "ecd19843",
   "metadata": {},
   "outputs": [],
   "source": [
    "df.dropna(subset=['recipe_name', 'cleaned_ingredients', 'directions'], inplace=True)"
   ]
  },
  {
   "cell_type": "code",
   "execution_count": 52,
   "id": "a3ff7177",
   "metadata": {},
   "outputs": [],
   "source": [
    "# Filter out rare classes (classes with fewer than 2 samples)\n",
    "class_counts = df['recipe_name'].value_counts()\n",
    "df = df[df['recipe_name'].isin(class_counts[class_counts > 1].index)]"
   ]
  },
  {
   "cell_type": "code",
   "execution_count": 53,
   "id": "2fc19baa",
   "metadata": {},
   "outputs": [],
   "source": [
    "from sklearn.feature_extraction.text import TfidfVectorizer\n",
    "\n",
    "vectorizer_ingredients = TfidfVectorizer(max_features=5000, stop_words='english')\n",
    "X_ingredients = vectorizer_ingredients.fit_transform(df['cleaned_ingredients'])\n",
    "\n",
    "# vectorizer_directions = TfidfVectorizer(max_features=5000, stop_words='english')\n",
    "# X_directions = vectorizer_directions.fit_transform(df['directions'])"
   ]
  },
  {
   "cell_type": "code",
   "execution_count": 54,
   "id": "de73d7b2",
   "metadata": {},
   "outputs": [],
   "source": [
    "# # Combine features\n",
    "# X = np.hstack((X_ingredients.toarray(), X_directions.toarray()))\n",
    "# y = df['recipe_name']"
   ]
  },
  {
   "cell_type": "code",
   "execution_count": 55,
   "id": "5d1fc516",
   "metadata": {},
   "outputs": [],
   "source": [
    "X = X_ingredients\n",
    "y = df['recipe_name']"
   ]
  },
  {
   "cell_type": "code",
   "execution_count": 56,
   "id": "c77ded26",
   "metadata": {},
   "outputs": [],
   "source": [
    "X_train, X_test, y_train, y_test = train_test_split(X, y, test_size=0.3, random_state=42)"
   ]
  },
  {
   "cell_type": "code",
   "execution_count": 57,
   "id": "b246636d",
   "metadata": {},
   "outputs": [],
   "source": [
    "scaler = StandardScaler(with_mean=False)\n",
    "X_train = scaler.fit_transform(X_train)\n",
    "X_test = scaler.transform(X_test)"
   ]
  },
  {
   "cell_type": "code",
   "execution_count": 58,
   "id": "f028b655",
   "metadata": {},
   "outputs": [],
   "source": [
    "# Initialize models\n",
    "logistic_model = LogisticRegression(max_iter=1000, random_state=42)\n",
    "svc_model = SVC(kernel='linear', probability=True, random_state=42)\n",
    "rf_model = RandomForestClassifier(n_estimators=100, random_state=42)"
   ]
  },
  {
   "cell_type": "code",
   "execution_count": 59,
   "id": "f54f8fef",
   "metadata": {},
   "outputs": [
    {
     "name": "stdout",
     "output_type": "stream",
     "text": [
      "Cross-Validation Results:\n"
     ]
    },
    {
     "name": "stderr",
     "output_type": "stream",
     "text": [
      "C:\\Users\\royli\\AppData\\Roaming\\Python\\Python311\\site-packages\\sklearn\\model_selection\\_split.py:805: UserWarning: The least populated class in y has only 1 members, which is less than n_splits=5.\n",
      "  warnings.warn(\n"
     ]
    },
    {
     "name": "stdout",
     "output_type": "stream",
     "text": [
      "Logistic Regression: 0.9097\n"
     ]
    },
    {
     "name": "stderr",
     "output_type": "stream",
     "text": [
      "C:\\Users\\royli\\AppData\\Roaming\\Python\\Python311\\site-packages\\sklearn\\model_selection\\_split.py:805: UserWarning: The least populated class in y has only 1 members, which is less than n_splits=5.\n",
      "  warnings.warn(\n"
     ]
    },
    {
     "name": "stdout",
     "output_type": "stream",
     "text": [
      "SVM: 0.9097\n"
     ]
    },
    {
     "name": "stderr",
     "output_type": "stream",
     "text": [
      "C:\\Users\\royli\\AppData\\Roaming\\Python\\Python311\\site-packages\\sklearn\\model_selection\\_split.py:805: UserWarning: The least populated class in y has only 1 members, which is less than n_splits=5.\n",
      "  warnings.warn(\n"
     ]
    },
    {
     "name": "stdout",
     "output_type": "stream",
     "text": [
      "Random Forest: 0.9097\n"
     ]
    }
   ],
   "source": [
    "models = {\n",
    "    \"Logistic Regression\": logistic_model,\n",
    "    \"SVM\": svc_model,\n",
    "    \"Random Forest\": rf_model\n",
    "}\n",
    "\n",
    "print(\"Cross-Validation Results:\")\n",
    "for model_name, model in models.items():\n",
    "    skf = StratifiedKFold(n_splits=5, shuffle=True, random_state=42)\n",
    "    scores = cross_val_score(model, X_train, y_train, cv=skf, scoring='accuracy')\n",
    "    print(f\"{model_name}: {np.mean(scores):.4f}\")"
   ]
  },
  {
   "cell_type": "code",
   "execution_count": 60,
   "id": "75c6f074",
   "metadata": {},
   "outputs": [],
   "source": [
    "best_model = logistic_model  # Replace with the best model based on cross-validation results\n",
    "best_model.fit(X_train, y_train)\n",
    "y_pred = best_model.predict(X_test)"
   ]
  },
  {
   "cell_type": "code",
   "execution_count": 61,
   "id": "e737e361",
   "metadata": {},
   "outputs": [
    {
     "name": "stdout",
     "output_type": "stream",
     "text": [
      "\n",
      "Test Set Results:\n",
      "Accuracy: 0.8947\n",
      "Classification Report:\n",
      "                                                               precision    recall  f1-score   support\n",
      "\n",
      "                                        Amazing Apple Butter       1.00      1.00      1.00         1\n",
      "                                                 Apple Crisp       1.00      1.00      1.00         1\n",
      "                              Apple Crisp - Perfect and Easy       1.00      1.00      1.00         2\n",
      "                                             Apple Crumb Pie       1.00      1.00      1.00         2\n",
      "                                           Apple Pie Filling       1.00      1.00      1.00         3\n",
      "                                             Apple Turnovers       1.00      1.00      1.00         1\n",
      "                                       Apple-Cranberry Crisp       1.00      1.00      1.00         1\n",
      "                                    Apple-Cranberry Crostada       1.00      1.00      1.00         2\n",
      "                                  Baked Ham with Sweet Glaze       0.00      0.00      0.00         2\n",
      "                                    Canned Apple Pie Filling       1.00      1.00      1.00         3\n",
      "                                              Caramel Apples       1.00      1.00      1.00         2\n",
      "                                Debbie's Amazing Apple Bread       1.00      1.00      1.00         2\n",
      "                             Delicious Cinnamon Baked Apples       1.00      1.00      1.00         2\n",
      "                                            Easy Apple Cider       1.00      1.00      1.00         1\n",
      "                                 Easy Apple Cinnamon Muffins       1.00      1.00      1.00         2\n",
      "                           Easy Apple Crisp with Oat Topping       1.00      1.00      1.00         3\n",
      "                           Easy Apple Crisp with Pie Filling       1.00      1.00      1.00         1\n",
      "                                              Frog Eye Salad       1.00      1.00      1.00         1\n",
      "                                   Fruit and Yogurt Smoothie       1.00      1.00      1.00         1\n",
      "                                           German Apple Cake       1.00      1.00      1.00         1\n",
      "                                        Homemade Apple Cider       1.00      1.00      1.00         1\n",
      "                                                 Mango Bread       1.00      1.00      1.00         1\n",
      "                            Mango, Peach and Pineapple Salsa       1.00      1.00      1.00         1\n",
      "                                           Mulligatawny Soup       1.00      1.00      1.00         1\n",
      "                                      Old Fashioned Cocktail       1.00      1.00      1.00         1\n",
      "                               Old-Fashioned Apple Dumplings       1.00      1.00      1.00         1\n",
      "                                   Paleo Almond Date Cookies       0.33      1.00      0.50         1\n",
      "                                                    Pear Jam       1.00      1.00      1.00         1\n",
      "                                  Perfect Summer Fruit Salad       1.00      1.00      1.00         1\n",
      "             Persimmon, Pomegranate, and Massaged Kale Salad       0.00      0.00      0.00         2\n",
      "                                     Pineapple Glaze for Ham       0.00      0.00      0.00         0\n",
      "                            Pineapple Upside-Down Bundt Cake       0.00      0.00      0.00         0\n",
      "                               Pineapple and Banana Smoothie       1.00      1.00      1.00         1\n",
      "                                 Sarah's Homemade Applesauce       1.00      1.00      1.00         1\n",
      "                                              Sauteed Apples       1.00      1.00      1.00         2\n",
      "                                       Southern Fried Apples       1.00      1.00      1.00         1\n",
      "Spinach and Persimmon Salad with Goat Cheese and Pomegranate       1.00      1.00      1.00         1\n",
      "                                     The Best Caramel Apples       1.00      1.00      1.00         1\n",
      "                                  Thirty Day Friendship Cake       0.00      0.00      0.00         2\n",
      "                                               Waldorf Salad       1.00      1.00      1.00         2\n",
      "                                        White Peachy Sangria       1.00      1.00      1.00         1\n",
      "\n",
      "                                                    accuracy                           0.89        57\n",
      "                                                   macro avg       0.86      0.88      0.87        57\n",
      "                                                weighted avg       0.88      0.89      0.89        57\n",
      "\n"
     ]
    },
    {
     "name": "stderr",
     "output_type": "stream",
     "text": [
      "C:\\Users\\royli\\AppData\\Roaming\\Python\\Python311\\site-packages\\sklearn\\metrics\\_classification.py:1565: UndefinedMetricWarning: Precision is ill-defined and being set to 0.0 in labels with no predicted samples. Use `zero_division` parameter to control this behavior.\n",
      "  _warn_prf(average, modifier, f\"{metric.capitalize()} is\", len(result))\n",
      "C:\\Users\\royli\\AppData\\Roaming\\Python\\Python311\\site-packages\\sklearn\\metrics\\_classification.py:1565: UndefinedMetricWarning: Recall is ill-defined and being set to 0.0 in labels with no true samples. Use `zero_division` parameter to control this behavior.\n",
      "  _warn_prf(average, modifier, f\"{metric.capitalize()} is\", len(result))\n",
      "C:\\Users\\royli\\AppData\\Roaming\\Python\\Python311\\site-packages\\sklearn\\metrics\\_classification.py:1565: UndefinedMetricWarning: Precision is ill-defined and being set to 0.0 in labels with no predicted samples. Use `zero_division` parameter to control this behavior.\n",
      "  _warn_prf(average, modifier, f\"{metric.capitalize()} is\", len(result))\n",
      "C:\\Users\\royli\\AppData\\Roaming\\Python\\Python311\\site-packages\\sklearn\\metrics\\_classification.py:1565: UndefinedMetricWarning: Recall is ill-defined and being set to 0.0 in labels with no true samples. Use `zero_division` parameter to control this behavior.\n",
      "  _warn_prf(average, modifier, f\"{metric.capitalize()} is\", len(result))\n",
      "C:\\Users\\royli\\AppData\\Roaming\\Python\\Python311\\site-packages\\sklearn\\metrics\\_classification.py:1565: UndefinedMetricWarning: Precision is ill-defined and being set to 0.0 in labels with no predicted samples. Use `zero_division` parameter to control this behavior.\n",
      "  _warn_prf(average, modifier, f\"{metric.capitalize()} is\", len(result))\n",
      "C:\\Users\\royli\\AppData\\Roaming\\Python\\Python311\\site-packages\\sklearn\\metrics\\_classification.py:1565: UndefinedMetricWarning: Recall is ill-defined and being set to 0.0 in labels with no true samples. Use `zero_division` parameter to control this behavior.\n",
      "  _warn_prf(average, modifier, f\"{metric.capitalize()} is\", len(result))\n"
     ]
    }
   ],
   "source": [
    "print(\"\\nTest Set Results:\")\n",
    "print(f\"Accuracy: {accuracy_score(y_test, y_pred):.4f}\")\n",
    "print(\"Classification Report:\\n\", classification_report(y_test, y_pred))"
   ]
  },
  {
   "cell_type": "code",
   "execution_count": 62,
   "id": "e0e81df8",
   "metadata": {},
   "outputs": [
    {
     "data": {
      "text/plain": [
       "['recipe_model.pkl']"
      ]
     },
     "execution_count": 62,
     "metadata": {},
     "output_type": "execute_result"
    }
   ],
   "source": [
    "import joblib\n",
    "\n",
    "# Save the vectorizer and model\n",
    "joblib.dump(vectorizer_ingredients, \"vectorizer_ingredients.pkl\")\n",
    "joblib.dump(best_model, \"recipe_model.pkl\")"
   ]
  },
  {
   "cell_type": "code",
   "execution_count": 63,
   "id": "7df21611",
   "metadata": {},
   "outputs": [
    {
     "name": "stdout",
     "output_type": "stream",
     "text": [
      "Model was trained on: 317 features\n",
      "Vectorizer outputs: 317 features\n"
     ]
    }
   ],
   "source": [
    "print(\"Model was trained on:\", best_model.n_features_in_, \"features\")\n",
    "print(\"Vectorizer outputs:\", len(vectorizer_ingredients.get_feature_names_out()), \"features\")"
   ]
  },
  {
   "cell_type": "code",
   "execution_count": 64,
   "id": "636174ed",
   "metadata": {},
   "outputs": [
    {
     "name": "stdout",
     "output_type": "stream",
     "text": [
      "Number of features in vectorizer: 317\n",
      "Predicted Recipe Name: Roquefort Pear Salad\n"
     ]
    }
   ],
   "source": [
    "import joblib\n",
    "import re\n",
    "\n",
    "# Load the vectorizer and model\n",
    "vectorizer_ingredients = joblib.load(\"vectorizer_ingredients.pkl\")\n",
    "best_model = joblib.load(\"recipe_model.pkl\")\n",
    "\n",
    "print(f\"Number of features in vectorizer: {len(vectorizer_ingredients.get_feature_names_out())}\")\n",
    "\n",
    "# Function to preprocess user input\n",
    "def preprocess_ingredients_input(ingredients, vectorizer_ingredients):\n",
    "    cleaned_ingredients = re.sub(r'[^a-zA-Z\\s]', '', ingredients.lower()).strip()\n",
    "    ingredients_vector = vectorizer_ingredients.transform([cleaned_ingredients])\n",
    "    return ingredients_vector\n",
    "\n",
    "# Example: User Input\n",
    "user_ingredients = input(\"Enter the ingredients (comma-separated): \")\n",
    "user_vector = preprocess_ingredients_input(user_ingredients, vectorizer_ingredients)\n",
    "\n",
    "# Make a prediction\n",
    "predicted_recipe = best_model.predict(user_vector)\n",
    "print(f\"Predicted Recipe Name: {predicted_recipe[0]}\")"
   ]
  }
 ],
 "metadata": {
  "kernelspec": {
   "display_name": "Python 3",
   "language": "python",
   "name": "python3"
  },
  "language_info": {
   "codemirror_mode": {
    "name": "ipython",
    "version": 3
   },
   "file_extension": ".py",
   "mimetype": "text/x-python",
   "name": "python",
   "nbconvert_exporter": "python",
   "pygments_lexer": "ipython3",
   "version": "3.11.4"
  }
 },
 "nbformat": 4,
 "nbformat_minor": 5
}
