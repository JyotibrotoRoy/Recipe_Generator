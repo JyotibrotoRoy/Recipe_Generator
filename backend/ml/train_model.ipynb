{
 "cells": [
  {
   "cell_type": "code",
   "execution_count": null,
   "id": "ac2cd5ec",
   "metadata": {},
   "outputs": [],
   "source": [
    "pip install scikit-learn"
   ]
  },
  {
   "cell_type": "code",
   "execution_count": null,
   "id": "d9a33f75",
   "metadata": {},
   "outputs": [],
   "source": [
    "import pandas as pd\n",
    "import numpy as np\n",
    "from sklearn.model_selection import train_test_split\n",
    "from sklearn.ensemble import RandomForestClassifier\n",
    "from sklearn.svm import SVC\n",
    "from sklearn.linear_model import LogisticRegression\n",
    "from sklearn.metrics import accuracy_score\n",
    "import joblib"
   ]
  },
  {
   "cell_type": "code",
   "execution_count": null,
   "id": "1d2a2f49",
   "metadata": {},
   "outputs": [],
   "source": [
    "df = pd.read_csv(\"../data/recipes.csv\")"
   ]
  },
  {
   "cell_type": "code",
   "execution_count": null,
   "id": "4cc6c8d4",
   "metadata": {},
   "outputs": [],
   "source": [
    "df.drop(columns=[\"Unnamed: 0\", \"prep_time\", \"cook_time\", \"total_time\", \"servings\",\n",
    "    \"yield\", \"rating\", \"url\", \"nutrition\", \"img_src\"], inplace = True)"
   ]
  },
  {
   "cell_type": "code",
   "execution_count": null,
   "id": "4008f4fd",
   "metadata": {},
   "outputs": [],
   "source": [
    "df = df[['ingredients', 'directions','timing','cuisine_path', 'recipe_name']].dropna().drop_duplicates()"
   ]
  },
  {
   "cell_type": "code",
   "execution_count": null,
   "id": "beab2333",
   "metadata": {},
   "outputs": [],
   "source": [
    "cuisine_counts = df['cuisine_path'].value_counts()\n",
    "threshold = 4\n",
    "df['cuisine_grouped'] = df['cuisine_path'].apply(lambda x: x if cuisine_counts[x] > threshold else 'Other')"
   ]
  },
  {
   "cell_type": "code",
   "execution_count": null,
   "id": "083bccd0",
   "metadata": {},
   "outputs": [],
   "source": [
    "df['combined_text'] = df['ingredients'] + ' ' + df['directions'] + ' ' + df['timing']"
   ]
  },
  {
   "cell_type": "code",
   "execution_count": null,
   "id": "db2103c6",
   "metadata": {},
   "outputs": [],
   "source": [
    "import re\n",
    "def clean_text(text):\n",
    "    text = text.lower()\n",
    "    text = re.sub(r'[^\\w\\s]', '', text)  # remove punctuation\n",
    "    text = re.sub(r'\\d+', '', text)  # remove numbers\n",
    "    return text\n",
    "\n",
    "df['combined_text'] = df['combined_text'].apply(clean_text)\n"
   ]
  },
  {
   "cell_type": "code",
   "execution_count": null,
   "id": "56c12fa3",
   "metadata": {},
   "outputs": [],
   "source": [
    "from sklearn.feature_extraction.text import TfidfVectorizer\n",
    "\n",
    "vectorizer = TfidfVectorizer(max_features=1000, ngram_range=(1, 2), stop_words='english')\n",
    "X = vectorizer.fit_transform(df['combined_text'])"
   ]
  },
  {
   "cell_type": "code",
   "execution_count": null,
   "id": "e38b8c5d",
   "metadata": {},
   "outputs": [],
   "source": [
    "y_cuisine = df[\"cuisine_grouped\"]\n",
    "y_recipe = df[\"recipe_name\"]"
   ]
  },
  {
   "cell_type": "code",
   "execution_count": null,
   "id": "b78a1ad6",
   "metadata": {},
   "outputs": [],
   "source": [
    "X_train_c, X_test_c, y_train_c, y_test_c = train_test_split(X, y_cuisine, test_size=0.2, random_state=42)\n",
    "X_train_r, X_test_r, y_train_r, y_test_r = train_test_split(X, y_recipe, test_size=0.2, random_state=42)"
   ]
  },
  {
   "cell_type": "code",
   "execution_count": null,
   "id": "dd493954",
   "metadata": {},
   "outputs": [],
   "source": [
    "cuisine_model = RandomForestClassifier()\n",
    "cuisine_model.fit(X_train_c, y_train_c)\n",
    "\n",
    "recipe_model = RandomForestClassifier()\n",
    "recipe_model.fit(X_train_r, y_train_r)"
   ]
  },
  {
   "cell_type": "code",
   "execution_count": null,
   "id": "c8e6436f",
   "metadata": {},
   "outputs": [],
   "source": [
    "pip install catboost"
   ]
  },
  {
   "cell_type": "code",
   "execution_count": null,
   "id": "a682e92f",
   "metadata": {},
   "outputs": [],
   "source": [
    "from catboost import CatBoostClassifier\n",
    "from sklearn.linear_model import LogisticRegression\n",
    "from sklearn.svm import SVC"
   ]
  },
  {
   "cell_type": "code",
   "execution_count": null,
   "id": "83c5d212",
   "metadata": {},
   "outputs": [],
   "source": [
    "cat_model = CatBoostClassifier(iterations=100, verbose=50, allow_writing_files=False)\n",
    "cat_model.fit(X_train_c, y_train_c)"
   ]
  },
  {
   "cell_type": "code",
   "execution_count": null,
   "id": "89375551",
   "metadata": {},
   "outputs": [],
   "source": [
    "cat_model = CatBoostClassifier(iterations=100, verbose=50, task_type='GPU', allow_writing_files=False)\n",
    "cat_model.fit(X_train_r, y_train_r)"
   ]
  },
  {
   "cell_type": "code",
   "execution_count": null,
   "id": "a44af048",
   "metadata": {},
   "outputs": [],
   "source": [
    "svm_linear = SVC(kernel='linear')\n",
    "svm_linear.fit(X_train_c, y_train_c)"
   ]
  },
  {
   "cell_type": "code",
   "execution_count": null,
   "id": "6dbbe1fe",
   "metadata": {},
   "outputs": [],
   "source": [
    "svm_linear = SVC(kernel='linear')\n",
    "svm_linear.fit(X_train_r, y_train_r)"
   ]
  },
  {
   "cell_type": "code",
   "execution_count": null,
   "id": "e5acd2c6",
   "metadata": {},
   "outputs": [],
   "source": [
    "svm_rbf = SVC(kernel='rbf')\n",
    "svm_rbf.fit(X_train_c, y_train_c)"
   ]
  },
  {
   "cell_type": "code",
   "execution_count": null,
   "id": "8eaa4fe1",
   "metadata": {},
   "outputs": [],
   "source": [
    "svm_rbf = SVC(kernel='rbf')\n",
    "svm_rbf.fit(X_train_r, y_train_r)"
   ]
  },
  {
   "cell_type": "code",
   "execution_count": null,
   "id": "9b3e5ecf",
   "metadata": {},
   "outputs": [],
   "source": [
    "log_reg = LogisticRegression(max_iter=1000)\n",
    "log_reg.fit(X_train_c, y_train_c)"
   ]
  },
  {
   "cell_type": "code",
   "execution_count": null,
   "id": "2b1a3333",
   "metadata": {},
   "outputs": [],
   "source": [
    "log_reg = LogisticRegression(max_iter=1000)\n",
    "log_reg.fit(X_train_r, y_train_r)"
   ]
  },
  {
   "cell_type": "code",
   "execution_count": null,
   "id": "c162ccb4",
   "metadata": {},
   "outputs": [],
   "source": [
    "models = {\n",
    "    \"CatBoost\": cat_model,\n",
    "    \"Linear SVM\": svm_linear,\n",
    "    \"RBF SVM\": svm_rbf,\n",
    "    \"Logistic Regression\": log_reg\n",
    "}\n",
    "\n",
    "for name, model in models.items():\n",
    "    y_pred = model.predict(X_test_c)\n",
    "    acc = accuracy_score(y_test_c, y_pred)\n",
    "    print(f\"{name} Accuracy (Cuisine Prediction): {acc:.2f}\")"
   ]
  },
  {
   "cell_type": "code",
   "execution_count": null,
   "id": "f7a6fab8",
   "metadata": {},
   "outputs": [],
   "source": [
    "models = {\n",
    "    \"CatBoost\": cat_model,\n",
    "    \"Linear SVM\": svm_linear,\n",
    "    \"RBF SVM\": svm_rbf,\n",
    "    \"Logistic Regression\": log_reg\n",
    "}\n",
    "\n",
    "for name, model in models.items():\n",
    "    y_pred = model.predict(X_test_r)\n",
    "    acc = accuracy_score(y_test_r, y_pred)\n",
    "    print(f\"{name} Accuracy (Recipe Prediction): {acc:.2f}\")"
   ]
  },
  {
   "cell_type": "code",
   "execution_count": null,
   "id": "4ebbd765",
   "metadata": {},
   "outputs": [],
   "source": [
    "    from sklearn.ensemble import VotingClassifier\n",
    "\n",
    "    ensemble_model = VotingClassifier(estimators=[\n",
    "        ('svm_linear', svm_linear),\n",
    "        ('svm_rbf', svm_rbf),\n",
    "        ('log_reg', log_reg)\n",
    "    ], voting='hard')\n",
    "    ensemble_model.fit(X_train_c, y_train_c)\n",
    "\n",
    "    y_pred_ensemble = ensemble_model.predict(X_test_c)\n",
    "    ensemble_acc = accuracy_score(y_test_c, y_pred_ensemble)\n",
    "    print(f\"Ensemble Model Accuracy (Cuisine Prediction): {ensemble_acc:.2f}\")\n"
   ]
  },
  {
   "cell_type": "code",
   "execution_count": null,
   "id": "0ae6e413",
   "metadata": {},
   "outputs": [],
   "source": [
    "    from sklearn.ensemble import VotingClassifier\n",
    "\n",
    "    ensemble_model = VotingClassifier(estimators=[\n",
    "        ('svm_linear', svm_linear),\n",
    "        ('svm_rbf', svm_rbf),\n",
    "        ('log_reg', log_reg)\n",
    "    ], voting='hard')\n",
    "    ensemble_model.fit(X_train_r, y_train_r)\n",
    "\n",
    "    y_pred_ensemble = ensemble_model.predict(X_test_r)\n",
    "    ensemble_acc = accuracy_score(y_test_r, y_pred_ensemble)\n",
    "    print(f\"Ensemble Model Accuracy (recipe Prediction): {ensemble_acc:.2f}\")\n"
   ]
  },
  {
   "cell_type": "code",
   "execution_count": null,
   "id": "834da2c7",
   "metadata": {},
   "outputs": [],
   "source": [
    "import matplotlib.pyplot as plt\n",
    "df['cuisine_path'].value_counts().plot(kind='barh', figsize=(10,6))\n",
    "plt.title('Cuisine Distribution')\n",
    "plt.show()"
   ]
  }
 ],
 "metadata": {
  "kernelspec": {
   "display_name": "Python 3",
   "language": "python",
   "name": "python3"
  },
  "language_info": {
   "codemirror_mode": {
    "name": "ipython",
    "version": 3
   },
   "file_extension": ".py",
   "mimetype": "text/x-python",
   "name": "python",
   "nbconvert_exporter": "python",
   "pygments_lexer": "ipython3",
   "version": "3.11.4"
  }
 },
 "nbformat": 4,
 "nbformat_minor": 5
}
